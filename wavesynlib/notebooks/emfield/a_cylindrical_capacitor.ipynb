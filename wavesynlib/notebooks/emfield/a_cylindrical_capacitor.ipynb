{
 "cells": [
  {
   "cell_type": "markdown",
   "metadata": {},
   "source": [
    "A very long cylindrical capacitor. The votage between two plate is $U$(V), and the votage of the outer plate is 0(V). The radius of the inner(outer) plate is $R_1$($R_2$). The space between the two plates is filled with charge, and the charge density is $\\rho$, and the capacitivity is $\\epsilon$.\n",
    "\n",
    "Since the capacitor is very long, we treat it as a capacitor with infinity length; hence, the electric potential function is a 1-D function with respect to r on the cylindrical coordinate system. \n",
    "\n",
    "The potential function satisfies:\n",
    "$$\\nabla^2 \\phi \n",
    "= \\frac{1}{r}\\frac{\\partial}{\\partial r}\\left(\n",
    "    r\\frac{\\partial \\phi}{\\partial r}\n",
    "\\right) \n",
    "= -\\frac{\\rho}{\\epsilon},$$\n",
    "and\n",
    "$$\\phi|_{r=R_1} = U,$$\n",
    "$$\\phi|_{r=R_2} = 0.$$\n"
   ]
  },
  {
   "cell_type": "code",
   "execution_count": 9,
   "metadata": {},
   "outputs": [],
   "source": [
    "from sympy import *\n",
    "from sympy.interactive import printing\n",
    "printing.init_printing(use_latex='mathjax')"
   ]
  },
  {
   "cell_type": "code",
   "execution_count": 23,
   "metadata": {},
   "outputs": [
    {
     "data": {
      "text/latex": [
       "$$\\left ( \\phi, \\quad r, \\quad \\rho, \\quad \\epsilon, \\quad C_{1}, \\quad C_{2}, \\quad R_{1}, \\quad R_{2}, \\quad U\\right )$$"
      ],
      "text/plain": [
       "(φ, r, ρ, ε, C₁, C₂, R₁, R₂, U)"
      ]
     },
     "execution_count": 23,
     "metadata": {},
     "output_type": "execute_result"
    }
   ],
   "source": [
    "var('phi, r, rho, epsilon, C_1, C_2, R_1, R_2, U')"
   ]
  },
  {
   "cell_type": "markdown",
   "metadata": {},
   "source": [
    "$$\\frac{\\partial}{\\partial r}\\left(r\\frac{\\partial\\phi}{\\partial r}\\right) = -r\\frac{\\rho}{\\epsilon}$$\n",
    "\n",
    "$$r\\frac{\\partial \\phi}{\\partial r} = \n",
    "\\int \\frac{\\partial}{\\partial r}\\left( r\\frac{\\partial\\phi}{\\partial r} \\right) dr\n",
    "= \\int -r\\frac{\\rho}{\\epsilon} dr$$"
   ]
  },
  {
   "cell_type": "code",
   "execution_count": 14,
   "metadata": {},
   "outputs": [
    {
     "data": {
      "text/latex": [
       "$$C_{1} - \\frac{r^{2} \\rho}{2 \\epsilon}$$"
      ],
      "text/plain": [
       "      2  \n",
       "     r ⋅ρ\n",
       "C₁ - ────\n",
       "     2⋅ε "
      ]
     },
     "execution_count": 14,
     "metadata": {},
     "output_type": "execute_result"
    }
   ],
   "source": [
    "temp1 = integrate(-r*rho/epsilon, r) + C_1\n",
    "temp1"
   ]
  },
  {
   "cell_type": "markdown",
   "metadata": {},
   "source": [
    "$$r\\frac{\\partial\\phi}{\\partial r} = C_1 - \\frac{r^2\\rho}{2\\epsilon}$$\n",
    "\n",
    "$$\\frac{\\partial\\phi}{\\partial r} = \\frac{1}{r}\\left(C_1-\\frac{r^2 \\rho}{2\\epsilon}\\right)$$\n",
    "\n",
    "$$\\phi = \\int \\frac{1}{r}\\left(C_1-\\frac{r^2 \\rho}{2\\epsilon}\\right)dr$$"
   ]
  },
  {
   "cell_type": "code",
   "execution_count": 21,
   "metadata": {},
   "outputs": [
    {
     "data": {
      "text/latex": [
       "$$C_{2} + \\frac{1}{2 \\epsilon} \\left(2 C_{1} \\epsilon \\log{\\left (r \\right )} - \\frac{r^{2} \\rho}{2}\\right)$$"
      ],
      "text/plain": [
       "                      2  \n",
       "                     r ⋅ρ\n",
       "     2⋅C₁⋅ε⋅log(r) - ────\n",
       "                      2  \n",
       "C₂ + ────────────────────\n",
       "             2⋅ε         "
      ]
     },
     "execution_count": 21,
     "metadata": {},
     "output_type": "execute_result"
    }
   ],
   "source": [
    "phi_expr = integrate((C_1-r**2*rho/2/epsilon)/r, r) + C_2\n",
    "phi_expr"
   ]
  },
  {
   "cell_type": "code",
   "execution_count": 25,
   "metadata": {},
   "outputs": [
    {
     "data": {
      "text/latex": [
       "$$\\left \\{ C_{1} : \\frac{R_{1}^{2} \\rho - R_{2}^{2} \\rho + 4 U \\epsilon}{4 \\epsilon \\left(\\log{\\left (R_{1} \\right )} - \\log{\\left (R_{2} \\right )}\\right)}, \\quad C_{2} : \\frac{R_{2}^{2} \\rho \\log{\\left (R_{1} \\right )} - \\left(R_{1}^{2} \\rho + 4 U \\epsilon\\right) \\log{\\left (R_{2} \\right )}}{4 \\epsilon \\left(\\log{\\left (R_{1} \\right )} - \\log{\\left (R_{2} \\right )}\\right)}\\right \\}$$"
      ],
      "text/plain": [
       "⎧       2       2                   2             ⎛  2          ⎞        ⎫\n",
       "⎪     R₁ ⋅ρ - R₂ ⋅ρ + 4⋅U⋅ε       R₂ ⋅ρ⋅log(R₁) - ⎝R₁ ⋅ρ + 4⋅U⋅ε⎠⋅log(R₂)⎪\n",
       "⎨C₁: ───────────────────────, C₂: ───────────────────────────────────────⎬\n",
       "⎪    4⋅ε⋅(log(R₁) - log(R₂))              4⋅ε⋅(log(R₁) - log(R₂))        ⎪\n",
       "⎩                                                                        ⎭"
      ]
     },
     "execution_count": 25,
     "metadata": {},
     "output_type": "execute_result"
    }
   ],
   "source": [
    "Cs = solve([phi_expr.subs(r, R_1)-U, phi_expr.subs(r, R_2)], [C_1, C_2])\n",
    "Cs"
   ]
  },
  {
   "cell_type": "code",
   "execution_count": 29,
   "metadata": {},
   "outputs": [
    {
     "data": {
      "text/latex": [
       "$$\\frac{1}{2 \\epsilon} \\left(- \\frac{r^{2} \\rho}{2} + \\frac{\\left(R_{1}^{2} \\rho - R_{2}^{2} \\rho + 4 U \\epsilon\\right) \\log{\\left (r \\right )}}{2 \\left(\\log{\\left (R_{1} \\right )} - \\log{\\left (R_{2} \\right )}\\right)}\\right) + \\frac{R_{2}^{2} \\rho \\log{\\left (R_{1} \\right )} - \\left(R_{1}^{2} \\rho + 4 U \\epsilon\\right) \\log{\\left (R_{2} \\right )}}{4 \\epsilon \\left(\\log{\\left (R_{1} \\right )} - \\log{\\left (R_{2} \\right )}\\right)}$$"
      ],
      "text/plain": [
       "   2     ⎛  2       2          ⎞                                              \n",
       "  r ⋅ρ   ⎝R₁ ⋅ρ - R₂ ⋅ρ + 4⋅U⋅ε⎠⋅log(r)                                       \n",
       "- ──── + ──────────────────────────────     2             ⎛  2          ⎞     \n",
       "   2         2⋅(log(R₁) - log(R₂))        R₂ ⋅ρ⋅log(R₁) - ⎝R₁ ⋅ρ + 4⋅U⋅ε⎠⋅log(\n",
       "─────────────────────────────────────── + ────────────────────────────────────\n",
       "                  2⋅ε                             4⋅ε⋅(log(R₁) - log(R₂))     \n",
       "\n",
       "   \n",
       "   \n",
       "   \n",
       "R₂)\n",
       "───\n",
       "   "
      ]
     },
     "execution_count": 29,
     "metadata": {},
     "output_type": "execute_result"
    }
   ],
   "source": [
    "phi_final = phi_expr.subs(C_1, Cs[C_1]).subs(C_2, Cs[C_2])\n",
    "phi_final"
   ]
  },
  {
   "cell_type": "markdown",
   "metadata": {},
   "source": [
    "According to the relationship between potential and electric field strength:\n",
    "$$\\vec{E} = -\\nabla\\phi,$$\n",
    "we have:"
   ]
  },
  {
   "cell_type": "code",
   "execution_count": 32,
   "metadata": {},
   "outputs": [
    {
     "data": {
      "text/latex": [
       "$$- \\frac{1}{2 \\epsilon} \\left(- r \\rho + \\frac{R_{1}^{2} \\rho - R_{2}^{2} \\rho + 4 U \\epsilon}{2 r \\left(\\log{\\left (R_{1} \\right )} - \\log{\\left (R_{2} \\right )}\\right)}\\right)$$"
      ],
      "text/plain": [
       " ⎛          2       2           ⎞ \n",
       " ⎜        R₁ ⋅ρ - R₂ ⋅ρ + 4⋅U⋅ε ⎟ \n",
       "-⎜-r⋅ρ + ───────────────────────⎟ \n",
       " ⎝       2⋅r⋅(log(R₁) - log(R₂))⎠ \n",
       "──────────────────────────────────\n",
       "               2⋅ε                "
      ]
     },
     "execution_count": 32,
     "metadata": {},
     "output_type": "execute_result"
    }
   ],
   "source": [
    "-diff(phi_final, r)"
   ]
  },
  {
   "cell_type": "code",
   "execution_count": 34,
   "metadata": {},
   "outputs": [
    {
     "data": {
      "text/latex": [
       "$$\\frac{1}{2 \\epsilon} \\left(- \\frac{R_{2}^{2} \\rho}{2} + \\frac{\\left(R_{1}^{2} \\rho - R_{2}^{2} \\rho + 4 U \\epsilon\\right) \\log{\\left (R_{2} \\right )}}{2 \\left(\\log{\\left (R_{1} \\right )} - \\log{\\left (R_{2} \\right )}\\right)}\\right) + \\frac{R_{2}^{2} \\rho \\log{\\left (R_{1} \\right )} - \\left(R_{1}^{2} \\rho + 4 U \\epsilon\\right) \\log{\\left (R_{2} \\right )}}{4 \\epsilon \\left(\\log{\\left (R_{1} \\right )} - \\log{\\left (R_{2} \\right )}\\right)}$$"
      ],
      "text/plain": [
       "    2     ⎛  2       2          ⎞                                             \n",
       "  R₂ ⋅ρ   ⎝R₁ ⋅ρ - R₂ ⋅ρ + 4⋅U⋅ε⎠⋅log(R₂)                                     \n",
       "- ───── + ───────────────────────────────     2             ⎛  2          ⎞   \n",
       "    2          2⋅(log(R₁) - log(R₂))        R₂ ⋅ρ⋅log(R₁) - ⎝R₁ ⋅ρ + 4⋅U⋅ε⎠⋅lo\n",
       "───────────────────────────────────────── + ──────────────────────────────────\n",
       "                   2⋅ε                              4⋅ε⋅(log(R₁) - log(R₂))   \n",
       "\n",
       "     \n",
       "     \n",
       "     \n",
       "g(R₂)\n",
       "─────\n",
       "     "
      ]
     },
     "execution_count": 34,
     "metadata": {},
     "output_type": "execute_result"
    }
   ],
   "source": [
    "phi_final.subs(r, R_2)"
   ]
  },
  {
   "cell_type": "code",
   "execution_count": null,
   "metadata": {},
   "outputs": [],
   "source": []
  }
 ],
 "metadata": {
  "kernelspec": {
   "display_name": "VPython",
   "language": "python",
   "name": "vpython"
  },
  "language_info": {
   "codemirror_mode": {
    "name": "ipython",
    "version": 3
   },
   "file_extension": ".py",
   "mimetype": "text/x-python",
   "name": "python",
   "nbconvert_exporter": "python",
   "pygments_lexer": "ipython3",
   "version": "3.6.5"
  }
 },
 "nbformat": 4,
 "nbformat_minor": 2
}
