{
 "cells": [
  {
   "cell_type": "code",
   "execution_count": 1,
   "metadata": {},
   "outputs": [
    {
     "data": {
      "text/html": [
       "<div id=\"glowscript\" class=\"glowscript\"></div>"
      ],
      "text/plain": [
       "<IPython.core.display.HTML object>"
      ]
     },
     "metadata": {},
     "output_type": "display_data"
    },
    {
     "data": {
      "application/javascript": [
       "if (typeof Jupyter !== \"undefined\") { window.__context = { glowscript_container: $(\"#glowscript\").removeAttr(\"id\")};}else{ element.textContent = ' ';}"
      ],
      "text/plain": [
       "<IPython.core.display.Javascript object>"
      ]
     },
     "metadata": {},
     "output_type": "display_data"
    },
    {
     "data": {
      "application/javascript": [
       "if (typeof Jupyter !== \"undefined\") {require.undef(\"nbextensions/vpython_libraries/glow.min\");}else{element.textContent = ' ';}"
      ],
      "text/plain": [
       "<IPython.core.display.Javascript object>"
      ]
     },
     "metadata": {},
     "output_type": "display_data"
    },
    {
     "data": {
      "application/javascript": [
       "if (typeof Jupyter !== \"undefined\") {require.undef(\"nbextensions/vpython_libraries/glowcomm\");}else{element.textContent = ' ';}"
      ],
      "text/plain": [
       "<IPython.core.display.Javascript object>"
      ]
     },
     "metadata": {},
     "output_type": "display_data"
    },
    {
     "data": {
      "application/javascript": [
       "if (typeof Jupyter !== \"undefined\") {require.undef(\"nbextensions/vpython_libraries/jquery-ui.custom.min\");}else{element.textContent = ' ';}"
      ],
      "text/plain": [
       "<IPython.core.display.Javascript object>"
      ]
     },
     "metadata": {},
     "output_type": "display_data"
    },
    {
     "data": {
      "application/javascript": [
       "if (typeof Jupyter !== \"undefined\") {require([\"nbextensions/vpython_libraries/glow.min\"], function(){console.log(\"GLOW LOADED\");});}else{element.textContent = ' ';}"
      ],
      "text/plain": [
       "<IPython.core.display.Javascript object>"
      ]
     },
     "metadata": {},
     "output_type": "display_data"
    },
    {
     "data": {
      "application/javascript": [
       "if (typeof Jupyter !== \"undefined\") {require([\"nbextensions/vpython_libraries/glowcomm\"], function(){console.log(\"GLOWCOMM LOADED\");});}else{element.textContent = ' ';}"
      ],
      "text/plain": [
       "<IPython.core.display.Javascript object>"
      ]
     },
     "metadata": {},
     "output_type": "display_data"
    },
    {
     "data": {
      "application/javascript": [
       "if (typeof Jupyter !== \"undefined\") {require([\"nbextensions/vpython_libraries/jquery-ui.custom.min\"], function(){console.log(\"JQUERY LOADED\");});}else{element.textContent = ' ';}"
      ],
      "text/plain": [
       "<IPython.core.display.Javascript object>"
      ]
     },
     "metadata": {},
     "output_type": "display_data"
    }
   ],
   "source": [
    "\"\"\"\n",
    "Created on Wed Nov 29 19:34:43 2017\n",
    "\n",
    "@author: Feng-cong Li\n",
    "\"\"\"\n",
    "\n",
    "import vpython as vp\n",
    "from math import pi\n",
    "\n",
    "\n",
    "# Point charge\n",
    "vp.sphere(pos=vp.vec(0,0,0), radius=0.1, color=vp.color.yellow)\n",
    "\n",
    "arrow_posx = vp.arrow(\n",
    "    shaftwidth=0.02,\n",
    "    color=vp.color.cyan,\n",
    "    axis=vp.vec(1,0,0),\n",
    "    pos=vp.vec(0,0,0))\n",
    "\n",
    "arrow_posy = vp.arrow(\n",
    "    shaftwidth=arrow_posx.shaftwidth,\n",
    "    color=arrow_posx.color,\n",
    "    axis=-arrow_posx.axis,\n",
    "    pos=vp.vec(0,0,0))\n",
    "\n",
    "\n",
    "k = 8\n",
    "# q/epsilon\n",
    "q_e = k*(k//2-1)+2\n",
    "\n",
    "# angle between two vectors\n",
    "da = 2*pi/k\n",
    "\n",
    "# Not correct, need modification. \n",
    "for m in range(k):\n",
    "    for n in range(k//2-1):\n",
    "        vp.arrow(\n",
    "            shaftwidth=arrow_posx.shaftwidth,\n",
    "            color=arrow_posx.color,\n",
    "            axis=arrow_posx.axis.rotate((n+1)*da).rotate((m+1)*da, axis=vp.vec(1,0,0)),\n",
    "            pos=vp.vec(0,0,0))\n",
    "        \n",
    "        \n",
    "vp.scene.width = 1024\n",
    "vp.scene.height = 768\n",
    "\n",
    "vp.scene.caption = f'''\n",
    "q/ε = {q_e}<br/>\n",
    "'''\n",
    "\n",
    "\n",
    "sph = vp.sphere(pos=vp.vec(0,0,0), radius=0.4, color=vp.color.white, opacity=0.8, shininess=0)\n",
    "\n",
    "def on_change_radius(s):\n",
    "    sph.radius = s.value\n",
    "\n",
    "\n",
    "sl_sph = vp.slider(min=0.15, max=0.8, value=0.4, length=360, bind=on_change_radius)\n"
   ]
  },
  {
   "cell_type": "code",
   "execution_count": null,
   "metadata": {},
   "outputs": [],
   "source": []
  }
 ],
 "metadata": {
  "kernelspec": {
   "display_name": "Python 3",
   "language": "python",
   "name": "python3"
  },
  "language_info": {
   "codemirror_mode": {
    "name": "ipython",
    "version": 3
   },
   "file_extension": ".py",
   "mimetype": "text/x-python",
   "name": "python",
   "nbconvert_exporter": "python",
   "pygments_lexer": "ipython3",
   "version": "3.8.3"
  }
 },
 "nbformat": 4,
 "nbformat_minor": 2
}
