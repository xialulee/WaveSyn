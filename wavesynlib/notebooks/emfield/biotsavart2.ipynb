{
 "cells": [
  {
   "cell_type": "markdown",
   "metadata": {},
   "source": [
    "The Biot-Savart law is given by:\n",
    "$$\n",
    "d\\vec{B} = \\frac{\\mu_0}{4\\pi}\\frac{Id\\vec{l}\\times\\vec{e}_R}{R^2},\n",
    "$$\n",
    "where $Id\\vec{l}$ represents the current element, $\\vec{R}$ is the position vector, and $\\vec{e}_R$ is the normalized version of $\\vec{R}$."
   ]
  },
  {
   "cell_type": "code",
   "execution_count": null,
   "metadata": {},
   "outputs": [],
   "source": [
    "\"\"\"\n",
    "Created on Tue Nov 28 20:00:21 2017\n",
    "\n",
    "@author: Feng-cong Li\n",
    "\"\"\"\n",
    "\n",
    "import vpython as vp\n",
    "from math import pi\n",
    "\n",
    "vp.scene.width = 1024\n",
    "vp.scene.height = 768\n",
    "\n",
    "curelm = vp.arrow(\n",
    "            shaftwidth=0.05, \n",
    "            color=vp.color.cyan,\n",
    "            axis=vp.vec(0,0,0.5),\n",
    "            pos = vp.vec(0,0,0),\n",
    "            visible=True)\n",
    "\n",
    "\n",
    "\n",
    "shaft = 0.1\n",
    "for rho in (1, 1.5, 2):\n",
    "    for z in (-3, -2, -1, 0, 1, 2, 3):\n",
    "        for theta in (0, 45, 90, 135, 180, 225, 270, 315):\n",
    "            theta = theta/180*pi\n",
    "            R = vp.vec(rho, 0, z).rotate(theta)\n",
    "            # For simplicity, we assume mu_0/4/pi*I*dl=1\n",
    "            ax = vp.norm(curelm.axis).cross(vp.norm(R))/R.mag2\n",
    "            vp.arrow(\n",
    "                shaftwidth=shaft/R.mag2, \n",
    "                color=vp.color.yellow, \n",
    "                axis=ax, \n",
    "                pos=R, \n",
    "                visible=True)\n"
   ]
  },
  {
   "cell_type": "code",
   "execution_count": null,
   "metadata": {},
   "outputs": [],
   "source": []
  }
 ],
 "metadata": {
  "kernelspec": {
   "display_name": "VPython",
   "language": "python",
   "name": "vpython"
  },
  "language_info": {
   "codemirror_mode": {
    "name": "ipython",
    "version": 3
   },
   "file_extension": ".py",
   "mimetype": "text/x-python",
   "name": "python",
   "nbconvert_exporter": "python",
   "pygments_lexer": "ipython3",
   "version": "3.6.5"
  }
 },
 "nbformat": 4,
 "nbformat_minor": 2
}
