{
 "cells": [
  {
   "cell_type": "code",
   "execution_count": 1,
   "metadata": {},
   "outputs": [
    {
     "data": {
      "text/html": [
       "<div id=\"glowscript\" class=\"glowscript\"></div>"
      ],
      "text/plain": [
       "<IPython.core.display.HTML object>"
      ]
     },
     "metadata": {},
     "output_type": "display_data"
    },
    {
     "data": {
      "application/javascript": [
       "if (typeof Jupyter !== \"undefined\") { window.__context = { glowscript_container: $(\"#glowscript\").removeAttr(\"id\")};}else{ element.textContent = ' ';}"
      ],
      "text/plain": [
       "<IPython.core.display.Javascript object>"
      ]
     },
     "metadata": {},
     "output_type": "display_data"
    },
    {
     "data": {
      "application/javascript": [
       "if (typeof Jupyter !== \"undefined\") {require.undef(\"nbextensions/vpython_libraries/glow.min\");}else{element.textContent = ' ';}"
      ],
      "text/plain": [
       "<IPython.core.display.Javascript object>"
      ]
     },
     "metadata": {},
     "output_type": "display_data"
    },
    {
     "data": {
      "application/javascript": [
       "if (typeof Jupyter !== \"undefined\") {require.undef(\"nbextensions/vpython_libraries/glowcomm\");}else{element.textContent = ' ';}"
      ],
      "text/plain": [
       "<IPython.core.display.Javascript object>"
      ]
     },
     "metadata": {},
     "output_type": "display_data"
    },
    {
     "data": {
      "application/javascript": [
       "if (typeof Jupyter !== \"undefined\") {require.undef(\"nbextensions/vpython_libraries/jquery-ui.custom.min\");}else{element.textContent = ' ';}"
      ],
      "text/plain": [
       "<IPython.core.display.Javascript object>"
      ]
     },
     "metadata": {},
     "output_type": "display_data"
    },
    {
     "data": {
      "application/javascript": [
       "if (typeof Jupyter !== \"undefined\") {require([\"nbextensions/vpython_libraries/glow.min\"], function(){console.log(\"GLOW LOADED\");});}else{element.textContent = ' ';}"
      ],
      "text/plain": [
       "<IPython.core.display.Javascript object>"
      ]
     },
     "metadata": {},
     "output_type": "display_data"
    },
    {
     "data": {
      "application/javascript": [
       "if (typeof Jupyter !== \"undefined\") {require([\"nbextensions/vpython_libraries/glowcomm\"], function(){console.log(\"GLOWCOMM LOADED\");});}else{element.textContent = ' ';}"
      ],
      "text/plain": [
       "<IPython.core.display.Javascript object>"
      ]
     },
     "metadata": {},
     "output_type": "display_data"
    },
    {
     "data": {
      "application/javascript": [
       "if (typeof Jupyter !== \"undefined\") {require([\"nbextensions/vpython_libraries/jquery-ui.custom.min\"], function(){console.log(\"JQUERY LOADED\");});}else{element.textContent = ' ';}"
      ],
      "text/plain": [
       "<IPython.core.display.Javascript object>"
      ]
     },
     "metadata": {},
     "output_type": "display_data"
    }
   ],
   "source": [
    "\"\"\"\n",
    "Created on Sun Dec  3 23:40:28 2017\n",
    "\n",
    "@author: Feng-cong Li\n",
    "\"\"\"\n",
    "\n",
    "import vpython as vp\n",
    "\n",
    "length = 10\n",
    "r_min = 1\n",
    "r_max = 5\n",
    "\n",
    "vp.scene.width = 1024\n",
    "vp.scene.height = 768\n",
    "\n",
    "wire = vp.cylinder(\n",
    "    pos=vp.vec(0,0,0), \n",
    "    axis=vp.vec(0,0,length), \n",
    "    radius=length/50,\n",
    "    color=vp.color.yellow)\n",
    "\n",
    "surface = vp.cylinder(\n",
    "    pos=wire.pos,\n",
    "    axis=wire.axis,\n",
    "    radius= r_min,\n",
    "    opacity=0.5,\n",
    "    shininess=0)\n",
    "\n",
    "\n",
    "rings = []\n",
    "\n",
    "level = 10\n",
    "delta_z = length/10 # Need modification, re-calculate the density \n",
    "for m in range(level):\n",
    "    z = m*delta_z + delta_z/2    \n",
    "    ring = vp.ring(\n",
    "        pos=vp.vec(0,0,z),\n",
    "        radius=surface.radius,\n",
    "        axis=vp.vec(0,0,1),\n",
    "        thickness=0.05,\n",
    "        color=vp.color.cyan)\n",
    "    rings.append(ring)\n",
    "        \n",
    "        \n",
    "def on_change_radius(s):\n",
    "    surface.radius = s.value\n",
    "    for ring in rings:\n",
    "        ring.radius = s.value\n",
    "    \n",
    "    \n",
    "sl_surface = vp.slider(\n",
    "    min=r_min, \n",
    "    max=r_max, \n",
    "    value=r_min, \n",
    "    length=360, \n",
    "    bind=on_change_radius)\n"
   ]
  },
  {
   "cell_type": "code",
   "execution_count": null,
   "metadata": {},
   "outputs": [],
   "source": []
  }
 ],
 "metadata": {
  "kernelspec": {
   "display_name": "Python 3",
   "language": "python",
   "name": "python3"
  },
  "language_info": {
   "codemirror_mode": {
    "name": "ipython",
    "version": 3
   },
   "file_extension": ".py",
   "mimetype": "text/x-python",
   "name": "python",
   "nbconvert_exporter": "python",
   "pygments_lexer": "ipython3",
   "version": "3.8.3"
  }
 },
 "nbformat": 4,
 "nbformat_minor": 2
}
