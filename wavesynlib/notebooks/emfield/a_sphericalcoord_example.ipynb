{
 "cells": [
  {
   "cell_type": "code",
   "execution_count": null,
   "metadata": {},
   "outputs": [],
   "source": [
    "from sympy import *\n",
    "from sympy.interactive import printing\n",
    "printing.init_printing(use_latex='mathjax')\n",
    "\n",
    "var(['e_x', 'e_y', 'e_z', 'e_r', 'e_theta', 'e_phi'])"
   ]
  },
  {
   "cell_type": "code",
   "execution_count": null,
   "metadata": {},
   "outputs": [],
   "source": [
    "def get_cartesian_coord(p):\n",
    "    x = p.subs(e_x, 1).subs(e_y, 0).subs(e_z, 0)\n",
    "    y = p.subs(e_x, 0).subs(e_y, 1).subs(e_z, 0)\n",
    "    z = p.subs(e_x, 0).subs(e_y, 0).subs(e_z, 1)\n",
    "    return x, y, z"
   ]
  },
  {
   "cell_type": "code",
   "execution_count": null,
   "metadata": {},
   "outputs": [],
   "source": [
    "p = 3*e_x + 4*e_y + 5*e_z\n",
    "p"
   ]
  },
  {
   "cell_type": "code",
   "execution_count": null,
   "metadata": {},
   "outputs": [],
   "source": [
    "p_x, p_y, p_z = get_cartesian_coord(p)\n",
    "p_x, p_y, p_z"
   ]
  },
  {
   "cell_type": "code",
   "execution_count": null,
   "metadata": {},
   "outputs": [],
   "source": [
    "p_r = sqrt(p_x**2 + p_y**2 + p_z**2)\n",
    "p_theta = atan2(sqrt(p_x**2 + p_y**2), p_z)\n",
    "p_phi = atan2(p_y, p_x)\n",
    "p_r, p_theta, p_phi"
   ]
  },
  {
   "cell_type": "code",
   "execution_count": null,
   "metadata": {},
   "outputs": [],
   "source": [
    "p_spher = (Matrix([p_x, p_y, p_z]).T * Matrix([\n",
    "    [sin(p_theta)*cos(p_phi), cos(p_theta)*cos(p_phi), -sin(p_phi)],\n",
    "    [sin(p_theta)*sin(p_phi), cos(p_theta)*sin(p_phi), cos(p_phi)],\n",
    "    [cos(p_theta), -sin(p_theta), 0]\n",
    "]) * Matrix([e_r, e_theta, e_phi]))[0]\n",
    "# Notice that e_r is not a constant but a vector function with respect to theta and phi.\n",
    "p_spher"
   ]
  },
  {
   "cell_type": "code",
   "execution_count": null,
   "metadata": {},
   "outputs": [],
   "source": []
  }
 ],
 "metadata": {
  "kernelspec": {
   "display_name": "Python 3",
   "language": "python",
   "name": "python3"
  },
  "language_info": {
   "codemirror_mode": {
    "name": "ipython",
    "version": 3
   },
   "file_extension": ".py",
   "mimetype": "text/x-python",
   "name": "python",
   "nbconvert_exporter": "python",
   "pygments_lexer": "ipython3",
   "version": "3.6.5"
  }
 },
 "nbformat": 4,
 "nbformat_minor": 2
}
