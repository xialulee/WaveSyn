{
 "cells": [
  {
   "cell_type": "markdown",
   "metadata": {},
   "source": [
    "# An example of spherical coord system\n",
    "This example is from _Fundamentals of Electromagnetics for Electrical and Computer Engineering_ by N.N. Rao in Appendix A. In this example we demonstrate the method of converting a coord in Cartesian coord system to spherical coord system, and representing it using the three basic unit vectors in spherical coord system. "
   ]
  },
  {
   "cell_type": "code",
   "execution_count": null,
   "metadata": {},
   "outputs": [],
   "source": [
    "from sympy import *\n",
    "from sympy.interactive import printing\n",
    "printing.init_printing(use_latex='mathjax')"
   ]
  },
  {
   "cell_type": "markdown",
   "metadata": {},
   "source": [
    "Hereafter we use $\\vec{e}_x, \\vec{e}_y, \\vec{e}_z$ to represent the three unit vectors in Cartesian coord system, and $\\vec{e}_r, \\vec{e}_\\theta, \\vec{e}_\\phi$ to represent the three unit vectors in spherical coord system."
   ]
  },
  {
   "cell_type": "code",
   "execution_count": null,
   "metadata": {},
   "outputs": [],
   "source": [
    "var(['e_x', 'e_y', 'e_z', 'e_r', 'e_theta', 'e_phi'])"
   ]
  },
  {
   "cell_type": "code",
   "execution_count": null,
   "metadata": {},
   "outputs": [],
   "source": [
    "def get_cartesian_coord(p):\n",
    "    '''\\\n",
    "For a given point p in Cartesian coord, this function\n",
    "gets the factors of the three unit vectors.'''\n",
    "    x = p.subs(e_x, 1).subs(e_y, 0).subs(e_z, 0)\n",
    "    y = p.subs(e_x, 0).subs(e_y, 1).subs(e_z, 0)\n",
    "    z = p.subs(e_x, 0).subs(e_y, 0).subs(e_z, 1)\n",
    "    return x, y, z"
   ]
  },
  {
   "cell_type": "markdown",
   "metadata": {},
   "source": [
    "In the following cell, you can set the position of the point $p$ in Cartesian coord system, in the following form:\n",
    "$$\\vec{p} = p_x\\vec{e}_x + p_y\\vec{e}_y + p_z\\vec{e}_z.$$"
   ]
  },
  {
   "cell_type": "code",
   "execution_count": null,
   "metadata": {},
   "outputs": [],
   "source": [
    "p = 3*e_x + 4*e_y + 5*e_z\n",
    "p"
   ]
  },
  {
   "cell_type": "code",
   "execution_count": null,
   "metadata": {},
   "outputs": [],
   "source": [
    "p_x, p_y, p_z = get_cartesian_coord(p)\n",
    "p_x, p_y, p_z"
   ]
  },
  {
   "cell_type": "markdown",
   "metadata": {},
   "source": [
    "$$p_r = \\sqrt{p_x^2 + p_y^2 + p_z^2},$$\n",
    "$$p_\\theta = \\arctan\\frac{\\sqrt{p_x^2+p_y^2}}{p_z},$$\n",
    "$$p_\\phi = \\arctan\\frac{p_y}{p_x}.$$"
   ]
  },
  {
   "cell_type": "code",
   "execution_count": null,
   "metadata": {},
   "outputs": [],
   "source": [
    "p_r = sqrt(p_x**2 + p_y**2 + p_z**2)\n",
    "p_theta = atan2(sqrt(p_x**2 + p_y**2), p_z)\n",
    "p_phi = atan2(p_y, p_x)\n",
    "p_r, p_theta, p_phi"
   ]
  },
  {
   "cell_type": "markdown",
   "metadata": {},
   "source": [
    "According to the following expressions:\n",
    "$$\\vec{e}_r\\cdot\\vec{e}_x = \\sin\\theta\\cos\\phi,$$\n",
    "$$\\vec{e}_\\theta\\cdot\\vec{e}_x = \\cos\\theta\\cos\\phi,$$\n",
    "$$\\vec{e}_\\phi\\cdot\\vec{e}_x = -\\sin\\phi;$$\n",
    "\n",
    "$$\\vec{e}_r\\cdot\\vec{e}_y = \\sin\\theta\\sin\\phi,$$\n",
    "$$\\vec{e}_\\theta\\cdot\\vec{e}_y = \\cos\\theta\\sin\\phi,$$\n",
    "$$\\vec{e}_\\phi\\cdot\\vec{e}_y = \\cos\\phi;$$\n",
    "\n",
    "$$\\vec{e}_r\\cdot\\vec{e}_z = \\cos\\theta,$$\n",
    "$$\\vec{e}_\\theta\\cdot\\vec{e}_z = -\\sin\\theta,$$\n",
    "$$\\vec{e}_\\phi\\cdot\\vec{e}_z = 0;$$\n",
    "\n",
    "the point $p$ can be represented by the three basic unit vector in spherical coord system as:\n",
    "$$\\vec{p} = \\left(p_x, p_y, p_z\\right)\\left(\\begin{array}{}\n",
    "    \\sin p_\\theta \\cos p_\\phi & \\cos p_\\theta \\cos p_\\phi & -\\sin p_\\phi \\\\\n",
    "    \\sin p_\\theta \\sin p_\\phi & \\cos p_\\theta \\sin p_\\phi & \\cos p_\\phi \\\\\n",
    "    \\cos p_\\theta & -\\sin p_\\theta & 0\n",
    "\\end{array}\\right)\n",
    "\\left(\\begin{array}{}\n",
    "    \\vec{e}_r \\\\\n",
    "    \\vec{e}_\\theta \\\\\n",
    "    \\vec{e}_\\phi\n",
    "\\end{array}\n",
    "\\right).$$"
   ]
  },
  {
   "cell_type": "code",
   "execution_count": null,
   "metadata": {},
   "outputs": [],
   "source": [
    "p_spher = (Matrix([p_x, p_y, p_z]).T * Matrix([\n",
    "    [sin(p_theta)*cos(p_phi), cos(p_theta)*cos(p_phi), -sin(p_phi)],\n",
    "    [sin(p_theta)*sin(p_phi), cos(p_theta)*sin(p_phi), cos(p_phi)],\n",
    "    [cos(p_theta), -sin(p_theta), 0]\n",
    "]) * Matrix([e_r, e_theta, e_phi]))[0]\n",
    "# Notice that e_r is not a constant but a vector function with respect to theta and phi.\n",
    "p_spher"
   ]
  },
  {
   "cell_type": "markdown",
   "metadata": {},
   "source": [
    "**NOTICE** that $\\vec{e}_r, \\vec{e}_\\theta$ and $\\vec{e}_\\phi$ are not constant. All of them are vector-valued functions with respect to $\\theta$ and $\\phi$."
   ]
  },
  {
   "cell_type": "code",
   "execution_count": null,
   "metadata": {},
   "outputs": [],
   "source": []
  }
 ],
 "metadata": {
  "kernelspec": {
   "display_name": "Python 3",
   "language": "python",
   "name": "python3"
  },
  "language_info": {
   "codemirror_mode": {
    "name": "ipython",
    "version": 3
   },
   "file_extension": ".py",
   "mimetype": "text/x-python",
   "name": "python",
   "nbconvert_exporter": "python",
   "pygments_lexer": "ipython3",
   "version": "3.6.5"
  }
 },
 "nbformat": 4,
 "nbformat_minor": 2
}
