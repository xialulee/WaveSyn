{
 "cells": [
  {
   "cell_type": "markdown",
   "metadata": {},
   "source": [
    "# Law of induction\n",
    "In this notebook, we will make a 3D animation demonstrating the law of induction. Accroding to the law, the relation between magnetic flux and electromotive can be expressed as:\n",
    "$$e = -\\frac{\\partial\\Phi}{\\partial t},$$\n",
    "or\n",
    "$$\\oint_l \\vec{E}\\cdot d\\vec{l}=-\\frac{\\partial}{\\partial t}\\int_S \\vec{B}\\cdot d\\vec{S}.$$\n",
    "\n",
    "Hereafter we use yellow arrows to represent $\\vec{B}$, and blue arrows to represent the electromotive."
   ]
  },
  {
   "cell_type": "code",
   "execution_count": 1,
   "metadata": {},
   "outputs": [
    {
     "data": {
      "text/html": [
       "<div id=\"glowscript\" class=\"glowscript\"></div>"
      ],
      "text/plain": [
       "<IPython.core.display.HTML object>"
      ]
     },
     "metadata": {},
     "output_type": "display_data"
    },
    {
     "data": {
      "application/javascript": [
       "if (typeof Jupyter !== \"undefined\") { window.__context = { glowscript_container: $(\"#glowscript\").removeAttr(\"id\")};}else{ element.textContent = ' ';}"
      ],
      "text/plain": [
       "<IPython.core.display.Javascript object>"
      ]
     },
     "metadata": {},
     "output_type": "display_data"
    },
    {
     "data": {
      "application/javascript": [
       "if (typeof Jupyter !== \"undefined\") {require.undef(\"nbextensions/vpython_libraries/glow.min\");}else{element.textContent = ' ';}"
      ],
      "text/plain": [
       "<IPython.core.display.Javascript object>"
      ]
     },
     "metadata": {},
     "output_type": "display_data"
    },
    {
     "data": {
      "application/javascript": [
       "if (typeof Jupyter !== \"undefined\") {require.undef(\"nbextensions/vpython_libraries/glowcomm\");}else{element.textContent = ' ';}"
      ],
      "text/plain": [
       "<IPython.core.display.Javascript object>"
      ]
     },
     "metadata": {},
     "output_type": "display_data"
    },
    {
     "data": {
      "application/javascript": [
       "if (typeof Jupyter !== \"undefined\") {require.undef(\"nbextensions/vpython_libraries/jquery-ui.custom.min\");}else{element.textContent = ' ';}"
      ],
      "text/plain": [
       "<IPython.core.display.Javascript object>"
      ]
     },
     "metadata": {},
     "output_type": "display_data"
    },
    {
     "data": {
      "application/javascript": [
       "if (typeof Jupyter !== \"undefined\") {require([\"nbextensions/vpython_libraries/glow.min\"], function(){console.log(\"GLOW LOADED\");});}else{element.textContent = ' ';}"
      ],
      "text/plain": [
       "<IPython.core.display.Javascript object>"
      ]
     },
     "metadata": {},
     "output_type": "display_data"
    },
    {
     "data": {
      "application/javascript": [
       "if (typeof Jupyter !== \"undefined\") {require([\"nbextensions/vpython_libraries/glowcomm\"], function(){console.log(\"GLOWCOMM LOADED\");});}else{element.textContent = ' ';}"
      ],
      "text/plain": [
       "<IPython.core.display.Javascript object>"
      ]
     },
     "metadata": {},
     "output_type": "display_data"
    },
    {
     "data": {
      "application/javascript": [
       "if (typeof Jupyter !== \"undefined\") {require([\"nbextensions/vpython_libraries/jquery-ui.custom.min\"], function(){console.log(\"JQUERY LOADED\");});}else{element.textContent = ' ';}"
      ],
      "text/plain": [
       "<IPython.core.display.Javascript object>"
      ]
     },
     "metadata": {},
     "output_type": "display_data"
    }
   ],
   "source": [
    "import vpython as vp\n",
    "import itertools as it\n",
    "import sympy as sm\n",
    "import numpy as np\n",
    "from time import sleep\n",
    "\n",
    "e_x = vp.vec(1, 0, 0)\n",
    "e_y = vp.vec(0, 1, 0)\n",
    "e_z = vp.vec(0, 0, 1)\n",
    "origin = vp.vec(0, 0, 0)\n",
    "\n",
    "\n",
    "\n",
    "# Creating the arrows representing the B vectors.\n",
    "B_arrows = tuple(map(\n",
    "    lambda args:\\\n",
    "        vp.arrow(\n",
    "            shaftwidth=0.025,\n",
    "            color=vp.color.yellow,\n",
    "            axis=e_z,\n",
    "            pos=(e_x*args[0]).rotate(vp.radians(args[1]), axis=e_z)),\n",
    "    it.product((0.25, 0.5), range(0, 360, 45))))\n",
    "\n",
    "\n",
    "# Creating a ring representing a closed loop.\n",
    "vp.ring(\n",
    "    color=vp.color.cyan,\n",
    "    pos=origin,\n",
    "    axis=e_z,\n",
    "    radius=0.5,\n",
    "    thickness=0.025)\n",
    "\n",
    "# Creating four arrows on the ring demonstrating the electromotance.\n",
    "e_arrows = tuple(map(\n",
    "    lambda args:\\\n",
    "        vp.arrow(\n",
    "            shaftwidth=0.025,\n",
    "            color=vp.color.cyan,\n",
    "            pos=(e_x*args[0]).rotate(vp.radians(args[1]), axis=e_z),\n",
    "            axis=origin),\n",
    "    it.product((0.5,), range(0, 360, 90))))\n"
   ]
  },
  {
   "cell_type": "markdown",
   "metadata": {},
   "source": [
    "In the following cell, you can change the definition of $\\Phi$ with respect to $t$.\n",
    "Any valid and differentiable sympy expression is allowed."
   ]
  },
  {
   "cell_type": "code",
   "execution_count": 2,
   "metadata": {},
   "outputs": [
    {
     "data": {
      "text/latex": [
       "$\\displaystyle \\sin{\\left(t \\right)}$"
      ],
      "text/plain": [
       "sin(t)"
      ]
     },
     "execution_count": 2,
     "metadata": {},
     "output_type": "execute_result"
    }
   ],
   "source": [
    "# You can change the expression of Phi.\n",
    "# The expression should be a valid sympy expression.\n",
    "import sympy as sm\n",
    "sm.var(['t'])\n",
    "Phi = sm.sin(t)\n",
    "Phi\n"
   ]
  },
  {
   "cell_type": "markdown",
   "metadata": {},
   "source": [
    "The electromotance is calculated based on the law of induction, i.e.,\n",
    "$$e = -\\frac{\\partial\\Phi}{\\partial t},$$\n",
    "and the diff operation is implemented by sympy's symbolic diff. "
   ]
  },
  {
   "cell_type": "code",
   "execution_count": 3,
   "metadata": {},
   "outputs": [
    {
     "data": {
      "text/latex": [
       "$\\displaystyle - \\cos{\\left(t \\right)}$"
      ],
      "text/plain": [
       "-cos(t)"
      ]
     },
     "execution_count": 3,
     "metadata": {},
     "output_type": "execute_result"
    }
   ],
   "source": [
    "e = -Phi.diff(t)\n",
    "e"
   ]
  },
  {
   "cell_type": "markdown",
   "metadata": {},
   "source": [
    "Run the cell below, and you will see the animation which demonstraces the relation between $\\Phi$ and $e$."
   ]
  },
  {
   "cell_type": "code",
   "execution_count": 4,
   "metadata": {},
   "outputs": [],
   "source": [
    "dt = 0.01\n",
    "for val_t in np.arange(0, 20, dt):\n",
    "    vp.rate(100)\n",
    "    val_Phi = float(Phi.subs(t, val_t).evalf())\n",
    "    val_e = float(e.subs(t, val_t).evalf())\n",
    "    for B_arrow in B_arrows:\n",
    "        B_arrow.axis = e_z * val_Phi\n",
    "    for e_arrow in e_arrows:\n",
    "        e_arrow.axis = e_z.cross(vp.norm(e_arrow.pos))*val_e\n",
    "    "
   ]
  },
  {
   "cell_type": "code",
   "execution_count": null,
   "metadata": {},
   "outputs": [],
   "source": []
  }
 ],
 "metadata": {
  "kernelspec": {
   "display_name": "Python 3",
   "language": "python",
   "name": "python3"
  },
  "language_info": {
   "codemirror_mode": {
    "name": "ipython",
    "version": 3
   },
   "file_extension": ".py",
   "mimetype": "text/x-python",
   "name": "python",
   "nbconvert_exporter": "python",
   "pygments_lexer": "ipython3",
   "version": "3.8.3"
  }
 },
 "nbformat": 4,
 "nbformat_minor": 2
}
