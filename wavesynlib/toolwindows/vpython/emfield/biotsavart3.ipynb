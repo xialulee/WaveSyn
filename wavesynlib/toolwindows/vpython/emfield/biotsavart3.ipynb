{
 "cells": [
  {
   "cell_type": "code",
   "execution_count": 1,
   "metadata": {},
   "outputs": [
    {
     "data": {
      "application/javascript": [
       "require.undef(\"nbextensions/vpython_libraries/glow.min\");"
      ],
      "text/plain": [
       "<IPython.core.display.Javascript object>"
      ]
     },
     "metadata": {},
     "output_type": "display_data"
    },
    {
     "data": {
      "application/javascript": [
       "require.undef(\"nbextensions/vpython_libraries/glowcomm\");"
      ],
      "text/plain": [
       "<IPython.core.display.Javascript object>"
      ]
     },
     "metadata": {},
     "output_type": "display_data"
    },
    {
     "data": {
      "application/javascript": [
       "require.undef(\"nbextensions/vpython_libraries/jquery-ui.custom.min\");"
      ],
      "text/plain": [
       "<IPython.core.display.Javascript object>"
      ]
     },
     "metadata": {},
     "output_type": "display_data"
    },
    {
     "data": {
      "application/javascript": [
       "require([\"nbextensions/vpython_libraries/glow.min\"], function(){console.log(\"GLOW LOADED\");})"
      ],
      "text/plain": [
       "<IPython.core.display.Javascript object>"
      ]
     },
     "metadata": {},
     "output_type": "display_data"
    },
    {
     "data": {
      "application/javascript": [
       "require([\"nbextensions/vpython_libraries/glowcomm\"], function(){console.log(\"GLOWCOMM LOADED\");})"
      ],
      "text/plain": [
       "<IPython.core.display.Javascript object>"
      ]
     },
     "metadata": {},
     "output_type": "display_data"
    },
    {
     "data": {
      "application/javascript": [
       "require([\"nbextensions/vpython_libraries/jquery-ui.custom.min\"], function(){console.log(\"JQUERY LOADED\");})"
      ],
      "text/plain": [
       "<IPython.core.display.Javascript object>"
      ]
     },
     "metadata": {},
     "output_type": "display_data"
    },
    {
     "data": {
      "text/html": [
       "<div id=\"glowscript\" class=\"glowscript\"></div>"
      ],
      "text/plain": [
       "<IPython.core.display.HTML object>"
      ]
     },
     "metadata": {},
     "output_type": "display_data"
    },
    {
     "data": {
      "application/javascript": [
       "window.__context = { glowscript_container: $(\"#glowscript\").removeAttr(\"id\")}"
      ],
      "text/plain": [
       "<IPython.core.display.Javascript object>"
      ]
     },
     "metadata": {},
     "output_type": "display_data"
    }
   ],
   "source": [
    "\"\"\"\n",
    "Created on Wed Nov 29 20:20:51 2017\n",
    "\n",
    "@author: Feng-cong Li\n",
    "\"\"\"\n",
    "\n",
    "import vpython as vp\n",
    "from math import sin, cos, pi\n",
    "\n",
    "vp.scene.width = 1024\n",
    "vp.scene.height = 768\n",
    "\n",
    "curelm = vp.arrow(\n",
    "            shaftwidth=0.05, \n",
    "            color=vp.color.cyan,\n",
    "            axis=vp.vec(0,0,0.5),\n",
    "            pos = vp.vec(0,0,0),\n",
    "            visible=True)\n",
    "\n",
    "R = 1\n",
    "\n",
    "angles = (30, 60, 90, 120, 150)\n",
    "angles = [angle/180*pi for angle in angles]\n",
    "\n",
    "rings = [\\\n",
    "    vp.ring(\n",
    "        pos=vp.vec(0,0,cos(theta)*R), \n",
    "        radius=sin(theta)*R, \n",
    "        axis=vp.vec(0,0,1), \n",
    "        thickness=0.03, \n",
    "        color=vp.color.green) \n",
    "    for theta in angles]\n",
    "\n",
    "\n",
    "vp.scene.caption = f'''\n",
    "μIdl = 5\n",
    "'''\n",
    "\n",
    "sph = vp.sphere(pos=vp.vec(0,0,0), radius=R, color=vp.color.white, opacity=0.8, shininess=0)\n",
    "    \n",
    "def on_change_radius(s):\n",
    "    R = s.value\n",
    "    sph.radius = R\n",
    "    for idx, ring in enumerate(rings):\n",
    "        ring.pos = vp.vec(0,0,cos(angles[idx])*R)\n",
    "        ring.radius = sin(angles[idx])*R\n",
    "\n",
    "sl_sph = vp.slider(min=1, max=3, value=1, length=360, bind=on_change_radius)\n"
   ]
  },
  {
   "cell_type": "code",
   "execution_count": null,
   "metadata": {},
   "outputs": [],
   "source": []
  }
 ],
 "metadata": {
  "kernelspec": {
   "display_name": "VPython",
   "language": "python",
   "name": "vpython"
  },
  "language_info": {
   "codemirror_mode": {
    "name": "ipython",
    "version": 3
   },
   "file_extension": ".py",
   "mimetype": "text/x-python",
   "name": "python",
   "nbconvert_exporter": "python",
   "pygments_lexer": "ipython3",
   "version": "3.6.4"
  }
 },
 "nbformat": 4,
 "nbformat_minor": 2
}
