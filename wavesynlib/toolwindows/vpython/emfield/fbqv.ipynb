{
 "cells": [
  {
   "cell_type": "code",
   "execution_count": 1,
   "metadata": {},
   "outputs": [
    {
     "data": {
      "application/javascript": [
       "require.undef(\"nbextensions/vpython_libraries/glow.min\");"
      ],
      "text/plain": [
       "<IPython.core.display.Javascript object>"
      ]
     },
     "metadata": {},
     "output_type": "display_data"
    },
    {
     "data": {
      "application/javascript": [
       "require.undef(\"nbextensions/vpython_libraries/glowcomm\");"
      ],
      "text/plain": [
       "<IPython.core.display.Javascript object>"
      ]
     },
     "metadata": {},
     "output_type": "display_data"
    },
    {
     "data": {
      "application/javascript": [
       "require.undef(\"nbextensions/vpython_libraries/jquery-ui.custom.min\");"
      ],
      "text/plain": [
       "<IPython.core.display.Javascript object>"
      ]
     },
     "metadata": {},
     "output_type": "display_data"
    },
    {
     "data": {
      "application/javascript": [
       "require([\"nbextensions/vpython_libraries/glow.min\"], function(){console.log(\"GLOW LOADED\");})"
      ],
      "text/plain": [
       "<IPython.core.display.Javascript object>"
      ]
     },
     "metadata": {},
     "output_type": "display_data"
    },
    {
     "data": {
      "application/javascript": [
       "require([\"nbextensions/vpython_libraries/glowcomm\"], function(){console.log(\"GLOWCOMM LOADED\");})"
      ],
      "text/plain": [
       "<IPython.core.display.Javascript object>"
      ]
     },
     "metadata": {},
     "output_type": "display_data"
    },
    {
     "data": {
      "application/javascript": [
       "require([\"nbextensions/vpython_libraries/jquery-ui.custom.min\"], function(){console.log(\"JQUERY LOADED\");})"
      ],
      "text/plain": [
       "<IPython.core.display.Javascript object>"
      ]
     },
     "metadata": {},
     "output_type": "display_data"
    },
    {
     "data": {
      "text/html": [
       "<div id=\"glowscript\" class=\"glowscript\"></div>"
      ],
      "text/plain": [
       "<IPython.core.display.HTML object>"
      ]
     },
     "metadata": {},
     "output_type": "display_data"
    },
    {
     "data": {
      "application/javascript": [
       "window.__context = { glowscript_container: $(\"#glowscript\").removeAttr(\"id\")}"
      ],
      "text/plain": [
       "<IPython.core.display.Javascript object>"
      ]
     },
     "metadata": {},
     "output_type": "display_data"
    }
   ],
   "source": [
    "\"\"\"\n",
    "Created on Tue Nov 28 15:36:46 2017\n",
    "\n",
    "@author: Feng-cong Li\n",
    "\"\"\"\n",
    "\n",
    "import vpython as vp\n",
    "from math import pi\n",
    "\n",
    "\n",
    "global q\n",
    "\n",
    "v = vp.arrow(shaftwidth=0.05, color=vp.vec(1,1,0), visible=True)\n",
    "v.pos = vp.vec(0, 0, 0)\n",
    "v.axis = vp.vec(0.5, 0, 0)\n",
    "t_v = vp.text(text='v', pos=v.axis, height=0.1, color=v.color, billboard=True, emissive=True)\n",
    "\n",
    "B = vp.arrow(shaftwidth=0.05, color=vp.color.cyan, visible=True)\n",
    "B.pos = vp.vec(0, 0, 0)\n",
    "B.axis = vp.vec(0.5, 0, 0)\n",
    "t_B = vp.text(text='B', pos=B.axis, height=0.1, color=B.color, billboard=True, emissive=True)\n",
    "\n",
    "q = 0.5\n",
    "\n",
    "F = vp.arrow(shaftwidth=0.05, color=vp.color.green, visible=True)\n",
    "F.pos = vp.vec(0, 0, 0)\n",
    "F.axis = vp.vec(0, 0, 0)\n",
    "t_F = vp.text(text='F', pos=F.axis, height=0.1, color=F.color, billboard=True, emissive=True)\n",
    "\n",
    "\n",
    "\n",
    "def calc_F():\n",
    "    F.axis = q*v.axis.cross(B.axis)\n",
    "    text_F.text = f' = <b>e</b><sub><b>v</b>×<b>B</b></sub> {F.axis.mag:.3} (N)'\n",
    "    t_F.pos = F.axis\n",
    "\n",
    "\n",
    "def on_B_change(s):\n",
    "    B.axis.mag = s.value\n",
    "    text_B.text = f'B = {s.value} (T)'\n",
    "    t_B.pos = B.axis\n",
    "    calc_F()\n",
    "    \n",
    "    \n",
    "def on_v_change(s):\n",
    "    v.axis.mag = s.value\n",
    "    text_v.text = f'v = {s.value} (m/s)'\n",
    "    t_v.pos = v.axis\n",
    "    calc_F()\n",
    "    \n",
    "    \n",
    "def on_q_change(s):\n",
    "    global q\n",
    "    q = s.value\n",
    "    text_q.text = f'q = {s.value} (C)'\n",
    "    calc_F()\n",
    "\n",
    "\n",
    "def on_theta_change(s):\n",
    "    temp = vp.vec(1, 0, 0)\n",
    "    temp = temp * v.axis.mag\n",
    "    v.axis = temp.rotate(s.value/180*pi)\n",
    "    text_theta.text = f'θ = {s.value}°'\n",
    "    t_v.pos = v.axis\n",
    "    calc_F()\n",
    "\n",
    "\n",
    "vp.scene.width = 800\n",
    "vp.scene.height= 600\n",
    "\n",
    "vp.scene.caption = '<b>F</b> = q<b>v</b> × <b>B</b>'\n",
    "text_F = vp.wtext(text=' = <b>e</b><sub><b>v</b>×<b>B</b></sub> 0 (N)')\n",
    "vp.scene.append_to_caption('\\n')\n",
    "\n",
    "sl_B = vp.slider(min=0, max=1, value=0.5, length=360, bind=on_B_change, right=15)\n",
    "text_B = vp.wtext(text=f'B = {sl_B.value} (T)')\n",
    "vp.scene.append_to_caption('\\n')\n",
    "\n",
    "sl_v = vp.slider(min=0, max=1, value=0.5, length=360, bind=on_v_change, right=15)\n",
    "text_v = vp.wtext(text=f'v = {sl_v.value} (m/s)')\n",
    "vp.scene.append_to_caption('\\n')\n",
    "\n",
    "sl_theta = vp.slider(min=0, max=360, value=0, length=360, bind=on_theta_change, right=15)\n",
    "text_theta = vp.wtext(text=f'θ = {sl_theta.value/pi*180}°')\n",
    "vp.scene.append_to_caption('\\n')\n",
    "\n",
    "sl_q = vp.slider(min=0, max=1, value=0.5, length=360, bind=on_q_change, right=15)\n",
    "text_q = vp.wtext(text=f'q = {sl_q.value} (C)')\n",
    "vp.scene.append_to_caption('\\n')\n",
    "\n"
   ]
  },
  {
   "cell_type": "code",
   "execution_count": null,
   "metadata": {},
   "outputs": [],
   "source": []
  }
 ],
 "metadata": {
  "kernelspec": {
   "display_name": "VPython",
   "language": "python",
   "name": "vpython"
  },
  "language_info": {
   "codemirror_mode": {
    "name": "ipython",
    "version": 3
   },
   "file_extension": ".py",
   "mimetype": "text/x-python",
   "name": "python",
   "nbconvert_exporter": "python",
   "pygments_lexer": "ipython3",
   "version": "3.6.4"
  }
 },
 "nbformat": 4,
 "nbformat_minor": 2
}
